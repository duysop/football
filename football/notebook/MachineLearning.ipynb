{
 "cells": [
  {
   "attachments": {},
   "cell_type": "markdown",
   "metadata": {},
   "source": [
    "Use model Logistic Regresstion"
   ]
  },
  {
   "cell_type": "code",
   "execution_count": 10,
   "metadata": {},
   "outputs": [
    {
     "data": {
      "text/html": [
       "<div>\n",
       "<style scoped>\n",
       "    .dataframe tbody tr th:only-of-type {\n",
       "        vertical-align: middle;\n",
       "    }\n",
       "\n",
       "    .dataframe tbody tr th {\n",
       "        vertical-align: top;\n",
       "    }\n",
       "\n",
       "    .dataframe thead th {\n",
       "        text-align: right;\n",
       "    }\n",
       "</style>\n",
       "<table border=\"1\" class=\"dataframe\">\n",
       "  <thead>\n",
       "    <tr style=\"text-align: right;\">\n",
       "      <th></th>\n",
       "      <th>result</th>\n",
       "      <th>mean10Goal</th>\n",
       "      <th>mean10HomePct</th>\n",
       "      <th>mean10HomeShotGoal</th>\n",
       "      <th>mean10HomeShot</th>\n",
       "      <th>mean10Corner</th>\n",
       "      <th>mean10OpGoal</th>\n",
       "      <th>mean10AwayPct</th>\n",
       "      <th>mean10AwayShotGoal</th>\n",
       "      <th>mean10AwayShot</th>\n",
       "      <th>mean10OpCorner</th>\n",
       "    </tr>\n",
       "  </thead>\n",
       "  <tbody>\n",
       "    <tr>\n",
       "      <th>2514</th>\n",
       "      <td>3</td>\n",
       "      <td>2.5</td>\n",
       "      <td>67.5</td>\n",
       "      <td>6.5</td>\n",
       "      <td>21.5</td>\n",
       "      <td>9.9</td>\n",
       "      <td>0.900000</td>\n",
       "      <td>38.400000</td>\n",
       "      <td>2.9</td>\n",
       "      <td>8.700000</td>\n",
       "      <td>3.700000</td>\n",
       "    </tr>\n",
       "    <tr>\n",
       "      <th>1739</th>\n",
       "      <td>0</td>\n",
       "      <td>1.2</td>\n",
       "      <td>46.2</td>\n",
       "      <td>3.7</td>\n",
       "      <td>12.0</td>\n",
       "      <td>5.0</td>\n",
       "      <td>2.000000</td>\n",
       "      <td>58.000000</td>\n",
       "      <td>5.5</td>\n",
       "      <td>15.100000</td>\n",
       "      <td>4.900000</td>\n",
       "    </tr>\n",
       "    <tr>\n",
       "      <th>643</th>\n",
       "      <td>0</td>\n",
       "      <td>0.6</td>\n",
       "      <td>47.1</td>\n",
       "      <td>3.0</td>\n",
       "      <td>11.0</td>\n",
       "      <td>5.9</td>\n",
       "      <td>1.500000</td>\n",
       "      <td>48.300000</td>\n",
       "      <td>4.6</td>\n",
       "      <td>12.500000</td>\n",
       "      <td>5.400000</td>\n",
       "    </tr>\n",
       "    <tr>\n",
       "      <th>747</th>\n",
       "      <td>1</td>\n",
       "      <td>1.1</td>\n",
       "      <td>57.8</td>\n",
       "      <td>5.0</td>\n",
       "      <td>17.8</td>\n",
       "      <td>6.5</td>\n",
       "      <td>1.444444</td>\n",
       "      <td>40.333333</td>\n",
       "      <td>3.0</td>\n",
       "      <td>10.777778</td>\n",
       "      <td>5.333333</td>\n",
       "    </tr>\n",
       "    <tr>\n",
       "      <th>1185</th>\n",
       "      <td>1</td>\n",
       "      <td>2.3</td>\n",
       "      <td>58.6</td>\n",
       "      <td>6.7</td>\n",
       "      <td>18.3</td>\n",
       "      <td>6.3</td>\n",
       "      <td>1.200000</td>\n",
       "      <td>44.100000</td>\n",
       "      <td>3.8</td>\n",
       "      <td>10.700000</td>\n",
       "      <td>4.500000</td>\n",
       "    </tr>\n",
       "    <tr>\n",
       "      <th>...</th>\n",
       "      <td>...</td>\n",
       "      <td>...</td>\n",
       "      <td>...</td>\n",
       "      <td>...</td>\n",
       "      <td>...</td>\n",
       "      <td>...</td>\n",
       "      <td>...</td>\n",
       "      <td>...</td>\n",
       "      <td>...</td>\n",
       "      <td>...</td>\n",
       "      <td>...</td>\n",
       "    </tr>\n",
       "    <tr>\n",
       "      <th>3220</th>\n",
       "      <td>0</td>\n",
       "      <td>0.5</td>\n",
       "      <td>43.8</td>\n",
       "      <td>3.6</td>\n",
       "      <td>11.3</td>\n",
       "      <td>5.6</td>\n",
       "      <td>2.800000</td>\n",
       "      <td>62.179347</td>\n",
       "      <td>6.2</td>\n",
       "      <td>17.000000</td>\n",
       "      <td>7.000000</td>\n",
       "    </tr>\n",
       "    <tr>\n",
       "      <th>1767</th>\n",
       "      <td>0</td>\n",
       "      <td>0.9</td>\n",
       "      <td>43.1</td>\n",
       "      <td>2.6</td>\n",
       "      <td>8.2</td>\n",
       "      <td>4.4</td>\n",
       "      <td>1.500000</td>\n",
       "      <td>58.600000</td>\n",
       "      <td>4.6</td>\n",
       "      <td>13.400000</td>\n",
       "      <td>5.100000</td>\n",
       "    </tr>\n",
       "    <tr>\n",
       "      <th>735</th>\n",
       "      <td>3</td>\n",
       "      <td>1.3</td>\n",
       "      <td>49.4</td>\n",
       "      <td>4.1</td>\n",
       "      <td>12.4</td>\n",
       "      <td>4.8</td>\n",
       "      <td>0.900000</td>\n",
       "      <td>52.500000</td>\n",
       "      <td>3.7</td>\n",
       "      <td>10.400000</td>\n",
       "      <td>4.500000</td>\n",
       "    </tr>\n",
       "    <tr>\n",
       "      <th>194</th>\n",
       "      <td>1</td>\n",
       "      <td>1.7</td>\n",
       "      <td>49.4</td>\n",
       "      <td>5.0</td>\n",
       "      <td>17.3</td>\n",
       "      <td>5.9</td>\n",
       "      <td>0.900000</td>\n",
       "      <td>41.300000</td>\n",
       "      <td>2.9</td>\n",
       "      <td>10.600000</td>\n",
       "      <td>4.700000</td>\n",
       "    </tr>\n",
       "    <tr>\n",
       "      <th>3534</th>\n",
       "      <td>3</td>\n",
       "      <td>2.6</td>\n",
       "      <td>64.9</td>\n",
       "      <td>6.1</td>\n",
       "      <td>19.3</td>\n",
       "      <td>7.6</td>\n",
       "      <td>0.600000</td>\n",
       "      <td>37.700000</td>\n",
       "      <td>2.6</td>\n",
       "      <td>8.300000</td>\n",
       "      <td>4.300000</td>\n",
       "    </tr>\n",
       "  </tbody>\n",
       "</table>\n",
       "<p>2634 rows × 11 columns</p>\n",
       "</div>"
      ],
      "text/plain": [
       "      result  mean10Goal  mean10HomePct  mean10HomeShotGoal  mean10HomeShot  \\\n",
       "2514       3         2.5           67.5                 6.5            21.5   \n",
       "1739       0         1.2           46.2                 3.7            12.0   \n",
       "643        0         0.6           47.1                 3.0            11.0   \n",
       "747        1         1.1           57.8                 5.0            17.8   \n",
       "1185       1         2.3           58.6                 6.7            18.3   \n",
       "...      ...         ...            ...                 ...             ...   \n",
       "3220       0         0.5           43.8                 3.6            11.3   \n",
       "1767       0         0.9           43.1                 2.6             8.2   \n",
       "735        3         1.3           49.4                 4.1            12.4   \n",
       "194        1         1.7           49.4                 5.0            17.3   \n",
       "3534       3         2.6           64.9                 6.1            19.3   \n",
       "\n",
       "      mean10Corner  mean10OpGoal  mean10AwayPct  mean10AwayShotGoal  \\\n",
       "2514           9.9      0.900000      38.400000                 2.9   \n",
       "1739           5.0      2.000000      58.000000                 5.5   \n",
       "643            5.9      1.500000      48.300000                 4.6   \n",
       "747            6.5      1.444444      40.333333                 3.0   \n",
       "1185           6.3      1.200000      44.100000                 3.8   \n",
       "...            ...           ...            ...                 ...   \n",
       "3220           5.6      2.800000      62.179347                 6.2   \n",
       "1767           4.4      1.500000      58.600000                 4.6   \n",
       "735            4.8      0.900000      52.500000                 3.7   \n",
       "194            5.9      0.900000      41.300000                 2.9   \n",
       "3534           7.6      0.600000      37.700000                 2.6   \n",
       "\n",
       "      mean10AwayShot  mean10OpCorner  \n",
       "2514        8.700000        3.700000  \n",
       "1739       15.100000        4.900000  \n",
       "643        12.500000        5.400000  \n",
       "747        10.777778        5.333333  \n",
       "1185       10.700000        4.500000  \n",
       "...              ...             ...  \n",
       "3220       17.000000        7.000000  \n",
       "1767       13.400000        5.100000  \n",
       "735        10.400000        4.500000  \n",
       "194        10.600000        4.700000  \n",
       "3534        8.300000        4.300000  \n",
       "\n",
       "[2634 rows x 11 columns]"
      ]
     },
     "execution_count": 10,
     "metadata": {},
     "output_type": "execute_result"
    }
   ],
   "source": [
    "from sklearn.linear_model import LogisticRegression\n",
    "from sklearn.model_selection import train_test_split\n",
    "from sklearn.metrics import confusion_matrix\n",
    "import pandas as pd\n",
    "log_reg = LogisticRegression(max_iter=1000)\n",
    "data=pd.read_csv(\"../dataset/dataEDA.csv\")\n",
    "train,test=train_test_split(data,test_size=0.3)\n",
    "train"
   ]
  },
  {
   "cell_type": "code",
   "execution_count": 11,
   "metadata": {},
   "outputs": [
    {
     "name": "stderr",
     "output_type": "stream",
     "text": [
      "c:\\Users\\Admin\\miniconda3\\lib\\site-packages\\sklearn\\utils\\validation.py:1141: DataConversionWarning: A column-vector y was passed when a 1d array was expected. Please change the shape of y to (n_samples, ), for example using ravel().\n",
      "  y = column_or_1d(y, warn=True)\n"
     ]
    },
    {
     "name": "stdout",
     "output_type": "stream",
     "text": [
      "Average train score: 0.57\n",
      "Average test score: 0.56\n"
     ]
    }
   ],
   "source": [
    "\n",
    "train,test=train_test_split(data,test_size=0.3)\n",
    "log_reg = LogisticRegression(max_iter=1000)\n",
    "target=['result']\n",
    "x_train=train.drop('result',axis=1)\n",
    "y_train=train[target]\n",
    "x_test=test.drop('result',axis=1)\n",
    "y_test=test[target]\n",
    "log_reg.fit(x_train,y_train)\n",
    "y_predicted = log_reg.predict(x_test)\n",
    "testScore = log_reg.score(x_test, y_test)\n",
    "trainScore = log_reg.score(x_train, y_train)\n",
    "print(\"Average train score: %.2f\" % trainScore)\n",
    "print(\"Average test score: %.2f\" % testScore)"
   ]
  },
  {
   "attachments": {},
   "cell_type": "markdown",
   "metadata": {},
   "source": [
    "check score of 3 result(lose=0,draw=1,win=3)"
   ]
  },
  {
   "cell_type": "code",
   "execution_count": 12,
   "metadata": {},
   "outputs": [
    {
     "name": "stdout",
     "output_type": "stream",
     "text": [
      "              precision    recall  f1-score   support\n",
      "\n",
      "           0       0.55      0.62      0.59       370\n",
      "           1       0.25      0.01      0.01       259\n",
      "           3       0.57      0.80      0.67       501\n",
      "\n",
      "    accuracy                           0.56      1130\n",
      "   macro avg       0.46      0.48      0.42      1130\n",
      "weighted avg       0.49      0.56      0.49      1130\n",
      "\n"
     ]
    },
    {
     "data": {
      "text/plain": [
       "array([[231,   2, 137],\n",
       "       [ 94,   2, 163],\n",
       "       [ 94,   4, 403]], dtype=int64)"
      ]
     },
     "execution_count": 12,
     "metadata": {},
     "output_type": "execute_result"
    }
   ],
   "source": [
    "from sklearn.metrics import classification_report\n",
    "print(classification_report(y_test, y_predicted))\n",
    "confusion_matrix(y_test, y_predicted)"
   ]
  },
  {
   "attachments": {},
   "cell_type": "markdown",
   "metadata": {},
   "source": [
    "Use model Random forest with different between parameter"
   ]
  },
  {
   "cell_type": "code",
   "execution_count": 21,
   "metadata": {},
   "outputs": [
    {
     "name": "stderr",
     "output_type": "stream",
     "text": [
      "C:\\Users\\Admin\\AppData\\Local\\Temp\\ipykernel_13260\\2836785980.py:14: DataConversionWarning: A column-vector y was passed when a 1d array was expected. Please change the shape of y to (n_samples,), for example using ravel().\n",
      "  ran_forest.fit(x_train,y_train)\n"
     ]
    },
    {
     "name": "stdout",
     "output_type": "stream",
     "text": [
      "Average train score: 1.00\n",
      "Average test score: 0.53\n",
      "              precision    recall  f1-score   support\n",
      "\n",
      "           0       0.51      0.52      0.52       366\n",
      "           1       0.24      0.14      0.18       247\n",
      "           3       0.61      0.72      0.66       517\n",
      "\n",
      "    accuracy                           0.53      1130\n",
      "   macro avg       0.45      0.46      0.45      1130\n",
      "weighted avg       0.50      0.53      0.51      1130\n",
      "\n"
     ]
    },
    {
     "data": {
      "text/plain": [
       "array([[192,  60, 114],\n",
       "       [ 89,  34, 124],\n",
       "       [ 97,  46, 374]], dtype=int64)"
      ]
     },
     "execution_count": 21,
     "metadata": {},
     "output_type": "execute_result"
    }
   ],
   "source": [
    "from sklearn.ensemble import RandomForestClassifier\n",
    "from sklearn.model_selection import train_test_split\n",
    "from sklearn.metrics import confusion_matrix\n",
    "import pandas as pd\n",
    "ran_forest = RandomForestClassifier(n_estimators=1000)\n",
    "data=pd.read_csv(\"../dataset/dataDiff.csv\")\n",
    "train,test=train_test_split(data,test_size=0.3)\n",
    "train,test=train_test_split(data,test_size=0.3)\n",
    "target=['result']\n",
    "x_train=train.drop('result',axis=1)\n",
    "y_train=train[target]\n",
    "x_test=test.drop('result',axis=1)\n",
    "y_test=test[target]\n",
    "ran_forest.fit(x_train,y_train)\n",
    "y_predicted = ran_forest.predict(x_test)\n",
    "testScore = ran_forest.score(x_test, y_test)\n",
    "trainScore = ran_forest.score(x_train, y_train)\n",
    "print(\"Average train score: %.2f\" % trainScore)\n",
    "print(\"Average test score: %.2f\" % testScore)\n",
    "print(classification_report(y_test, y_predicted))\n",
    "confusion_matrix(y_test, y_predicted)"
   ]
  },
  {
   "attachments": {},
   "cell_type": "markdown",
   "metadata": {},
   "source": [
    "when we use different we can predict draw match better "
   ]
  },
  {
   "attachments": {},
   "cell_type": "markdown",
   "metadata": {},
   "source": [
    "Use model Random Forest for only mean of 10 match later"
   ]
  },
  {
   "cell_type": "code",
   "execution_count": 22,
   "metadata": {},
   "outputs": [
    {
     "name": "stderr",
     "output_type": "stream",
     "text": [
      "C:\\Users\\Admin\\AppData\\Local\\Temp\\ipykernel_13260\\559256627.py:14: DataConversionWarning: A column-vector y was passed when a 1d array was expected. Please change the shape of y to (n_samples,), for example using ravel().\n",
      "  ran_forest.fit(x_train,y_train)\n"
     ]
    },
    {
     "name": "stdout",
     "output_type": "stream",
     "text": [
      "Average train score: 1.00\n",
      "Average test score: 0.55\n",
      "              precision    recall  f1-score   support\n",
      "\n",
      "           0       0.55      0.60      0.57       358\n",
      "           1       0.36      0.07      0.12       272\n",
      "           3       0.56      0.77      0.65       500\n",
      "\n",
      "    accuracy                           0.55      1130\n",
      "   macro avg       0.49      0.48      0.45      1130\n",
      "weighted avg       0.51      0.55      0.50      1130\n",
      "\n"
     ]
    },
    {
     "data": {
      "text/plain": [
       "array([[215,  12, 131],\n",
       "       [ 85,  20, 167],\n",
       "       [ 92,  24, 384]], dtype=int64)"
      ]
     },
     "execution_count": 22,
     "metadata": {},
     "output_type": "execute_result"
    }
   ],
   "source": [
    "from sklearn.ensemble import RandomForestClassifier\n",
    "from sklearn.model_selection import train_test_split\n",
    "from sklearn.metrics import confusion_matrix\n",
    "import pandas as pd\n",
    "ran_forest = RandomForestClassifier(n_estimators=1000)\n",
    "data=pd.read_csv(\"../dataset/dataEDA.csv\")\n",
    "train,test=train_test_split(data,test_size=0.3)\n",
    "train,test=train_test_split(data,test_size=0.3)\n",
    "target=['result']\n",
    "x_train=train.drop('result',axis=1)\n",
    "y_train=train[target]\n",
    "x_test=test.drop('result',axis=1)\n",
    "y_test=test[target]\n",
    "ran_forest.fit(x_train,y_train)\n",
    "y_predicted = ran_forest.predict(x_test)\n",
    "testScore = ran_forest.score(x_test, y_test)\n",
    "trainScore = ran_forest.score(x_train, y_train)\n",
    "print(\"Average train score: %.2f\" % trainScore)\n",
    "print(\"Average test score: %.2f\" % testScore)\n",
    "print(classification_report(y_test, y_predicted))\n",
    "confusion_matrix(y_test, y_predicted)"
   ]
  }
 ],
 "metadata": {
  "kernelspec": {
   "display_name": "base",
   "language": "python",
   "name": "python3"
  },
  "language_info": {
   "codemirror_mode": {
    "name": "ipython",
    "version": 3
   },
   "file_extension": ".py",
   "mimetype": "text/x-python",
   "name": "python",
   "nbconvert_exporter": "python",
   "pygments_lexer": "ipython3",
   "version": "3.9.15"
  },
  "orig_nbformat": 4,
  "vscode": {
   "interpreter": {
    "hash": "bd97b8bffa4d3737e84826bc3d37be3046061822757ce35137ab82ad4c5a2016"
   }
  }
 },
 "nbformat": 4,
 "nbformat_minor": 2
}

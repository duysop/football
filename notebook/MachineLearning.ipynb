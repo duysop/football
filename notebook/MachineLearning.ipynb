{
 "cells": [
  {
   "attachments": {},
   "cell_type": "markdown",
   "metadata": {},
   "source": [
    "Use model Logistic Regresstion"
   ]
  },
  {
   "cell_type": "code",
   "execution_count": 6,
   "metadata": {},
   "outputs": [
    {
     "data": {
      "text/html": [
       "<div>\n",
       "<style scoped>\n",
       "    .dataframe tbody tr th:only-of-type {\n",
       "        vertical-align: middle;\n",
       "    }\n",
       "\n",
       "    .dataframe tbody tr th {\n",
       "        vertical-align: top;\n",
       "    }\n",
       "\n",
       "    .dataframe thead th {\n",
       "        text-align: right;\n",
       "    }\n",
       "</style>\n",
       "<table border=\"1\" class=\"dataframe\">\n",
       "  <thead>\n",
       "    <tr style=\"text-align: right;\">\n",
       "      <th></th>\n",
       "      <th>result</th>\n",
       "      <th>mean10Goal</th>\n",
       "      <th>mean10HomePct</th>\n",
       "      <th>mean10HomeShotGoal</th>\n",
       "      <th>mean10HomeShot</th>\n",
       "      <th>mean10Corner</th>\n",
       "      <th>mean10OpGoal</th>\n",
       "      <th>mean10AwayPct</th>\n",
       "      <th>mean10AwayShotGoal</th>\n",
       "      <th>mean10AwayShot</th>\n",
       "      <th>mean10OpCorner</th>\n",
       "    </tr>\n",
       "  </thead>\n",
       "  <tbody>\n",
       "    <tr>\n",
       "      <th>1211</th>\n",
       "      <td>0</td>\n",
       "      <td>2.4</td>\n",
       "      <td>51.7</td>\n",
       "      <td>5.4</td>\n",
       "      <td>14.8</td>\n",
       "      <td>7.0</td>\n",
       "      <td>2.7</td>\n",
       "      <td>56.9</td>\n",
       "      <td>5.0</td>\n",
       "      <td>11.7</td>\n",
       "      <td>4.7</td>\n",
       "    </tr>\n",
       "    <tr>\n",
       "      <th>740</th>\n",
       "      <td>3</td>\n",
       "      <td>1.1</td>\n",
       "      <td>43.1</td>\n",
       "      <td>5.0</td>\n",
       "      <td>13.8</td>\n",
       "      <td>5.1</td>\n",
       "      <td>0.8</td>\n",
       "      <td>53.0</td>\n",
       "      <td>3.9</td>\n",
       "      <td>11.3</td>\n",
       "      <td>5.3</td>\n",
       "    </tr>\n",
       "    <tr>\n",
       "      <th>2640</th>\n",
       "      <td>0</td>\n",
       "      <td>1.6</td>\n",
       "      <td>53.1</td>\n",
       "      <td>4.3</td>\n",
       "      <td>12.1</td>\n",
       "      <td>4.8</td>\n",
       "      <td>1.5</td>\n",
       "      <td>63.7</td>\n",
       "      <td>5.4</td>\n",
       "      <td>14.4</td>\n",
       "      <td>6.3</td>\n",
       "    </tr>\n",
       "    <tr>\n",
       "      <th>2566</th>\n",
       "      <td>3</td>\n",
       "      <td>1.1</td>\n",
       "      <td>57.5</td>\n",
       "      <td>4.0</td>\n",
       "      <td>13.4</td>\n",
       "      <td>5.9</td>\n",
       "      <td>0.5</td>\n",
       "      <td>51.1</td>\n",
       "      <td>3.5</td>\n",
       "      <td>11.4</td>\n",
       "      <td>4.6</td>\n",
       "    </tr>\n",
       "    <tr>\n",
       "      <th>1487</th>\n",
       "      <td>0</td>\n",
       "      <td>0.9</td>\n",
       "      <td>53.2</td>\n",
       "      <td>4.2</td>\n",
       "      <td>14.9</td>\n",
       "      <td>5.9</td>\n",
       "      <td>2.2</td>\n",
       "      <td>63.1</td>\n",
       "      <td>5.4</td>\n",
       "      <td>15.5</td>\n",
       "      <td>6.8</td>\n",
       "    </tr>\n",
       "    <tr>\n",
       "      <th>...</th>\n",
       "      <td>...</td>\n",
       "      <td>...</td>\n",
       "      <td>...</td>\n",
       "      <td>...</td>\n",
       "      <td>...</td>\n",
       "      <td>...</td>\n",
       "      <td>...</td>\n",
       "      <td>...</td>\n",
       "      <td>...</td>\n",
       "      <td>...</td>\n",
       "      <td>...</td>\n",
       "    </tr>\n",
       "    <tr>\n",
       "      <th>1943</th>\n",
       "      <td>3</td>\n",
       "      <td>1.7</td>\n",
       "      <td>59.3</td>\n",
       "      <td>5.6</td>\n",
       "      <td>16.3</td>\n",
       "      <td>7.3</td>\n",
       "      <td>1.3</td>\n",
       "      <td>57.1</td>\n",
       "      <td>5.0</td>\n",
       "      <td>14.1</td>\n",
       "      <td>5.7</td>\n",
       "    </tr>\n",
       "    <tr>\n",
       "      <th>3667</th>\n",
       "      <td>3</td>\n",
       "      <td>1.6</td>\n",
       "      <td>57.1</td>\n",
       "      <td>3.9</td>\n",
       "      <td>12.4</td>\n",
       "      <td>5.0</td>\n",
       "      <td>0.9</td>\n",
       "      <td>51.2</td>\n",
       "      <td>4.3</td>\n",
       "      <td>11.7</td>\n",
       "      <td>3.1</td>\n",
       "    </tr>\n",
       "    <tr>\n",
       "      <th>1160</th>\n",
       "      <td>0</td>\n",
       "      <td>1.0</td>\n",
       "      <td>48.7</td>\n",
       "      <td>4.7</td>\n",
       "      <td>14.1</td>\n",
       "      <td>6.8</td>\n",
       "      <td>2.0</td>\n",
       "      <td>57.2</td>\n",
       "      <td>5.5</td>\n",
       "      <td>15.8</td>\n",
       "      <td>5.9</td>\n",
       "    </tr>\n",
       "    <tr>\n",
       "      <th>2080</th>\n",
       "      <td>1</td>\n",
       "      <td>1.2</td>\n",
       "      <td>43.9</td>\n",
       "      <td>4.1</td>\n",
       "      <td>13.1</td>\n",
       "      <td>4.7</td>\n",
       "      <td>1.3</td>\n",
       "      <td>43.8</td>\n",
       "      <td>4.4</td>\n",
       "      <td>11.0</td>\n",
       "      <td>5.2</td>\n",
       "    </tr>\n",
       "    <tr>\n",
       "      <th>415</th>\n",
       "      <td>3</td>\n",
       "      <td>2.0</td>\n",
       "      <td>56.1</td>\n",
       "      <td>6.0</td>\n",
       "      <td>15.8</td>\n",
       "      <td>7.3</td>\n",
       "      <td>0.9</td>\n",
       "      <td>43.0</td>\n",
       "      <td>2.9</td>\n",
       "      <td>10.5</td>\n",
       "      <td>3.6</td>\n",
       "    </tr>\n",
       "  </tbody>\n",
       "</table>\n",
       "<p>2634 rows × 11 columns</p>\n",
       "</div>"
      ],
      "text/plain": [
       "      result  mean10Goal  mean10HomePct  mean10HomeShotGoal  mean10HomeShot  \\\n",
       "1211       0         2.4           51.7                 5.4            14.8   \n",
       "740        3         1.1           43.1                 5.0            13.8   \n",
       "2640       0         1.6           53.1                 4.3            12.1   \n",
       "2566       3         1.1           57.5                 4.0            13.4   \n",
       "1487       0         0.9           53.2                 4.2            14.9   \n",
       "...      ...         ...            ...                 ...             ...   \n",
       "1943       3         1.7           59.3                 5.6            16.3   \n",
       "3667       3         1.6           57.1                 3.9            12.4   \n",
       "1160       0         1.0           48.7                 4.7            14.1   \n",
       "2080       1         1.2           43.9                 4.1            13.1   \n",
       "415        3         2.0           56.1                 6.0            15.8   \n",
       "\n",
       "      mean10Corner  mean10OpGoal  mean10AwayPct  mean10AwayShotGoal  \\\n",
       "1211           7.0           2.7           56.9                 5.0   \n",
       "740            5.1           0.8           53.0                 3.9   \n",
       "2640           4.8           1.5           63.7                 5.4   \n",
       "2566           5.9           0.5           51.1                 3.5   \n",
       "1487           5.9           2.2           63.1                 5.4   \n",
       "...            ...           ...            ...                 ...   \n",
       "1943           7.3           1.3           57.1                 5.0   \n",
       "3667           5.0           0.9           51.2                 4.3   \n",
       "1160           6.8           2.0           57.2                 5.5   \n",
       "2080           4.7           1.3           43.8                 4.4   \n",
       "415            7.3           0.9           43.0                 2.9   \n",
       "\n",
       "      mean10AwayShot  mean10OpCorner  \n",
       "1211            11.7             4.7  \n",
       "740             11.3             5.3  \n",
       "2640            14.4             6.3  \n",
       "2566            11.4             4.6  \n",
       "1487            15.5             6.8  \n",
       "...              ...             ...  \n",
       "1943            14.1             5.7  \n",
       "3667            11.7             3.1  \n",
       "1160            15.8             5.9  \n",
       "2080            11.0             5.2  \n",
       "415             10.5             3.6  \n",
       "\n",
       "[2634 rows x 11 columns]"
      ]
     },
     "execution_count": 6,
     "metadata": {},
     "output_type": "execute_result"
    }
   ],
   "source": [
    "from sklearn.linear_model import LogisticRegression\n",
    "from sklearn.model_selection import train_test_split\n",
    "from sklearn.metrics import confusion_matrix\n",
    "import pandas as pd\n",
    "log_reg = LogisticRegression(max_iter=1000)\n",
    "data=pd.read_csv(\"../dataset/dataEDA.csv\")\n",
    "train,test=train_test_split(data,test_size=0.3)\n",
    "train"
   ]
  },
  {
   "cell_type": "code",
   "execution_count": 7,
   "metadata": {},
   "outputs": [
    {
     "name": "stderr",
     "output_type": "stream",
     "text": [
      "c:\\Users\\Admin\\miniconda3\\lib\\site-packages\\sklearn\\utils\\validation.py:1141: DataConversionWarning: A column-vector y was passed when a 1d array was expected. Please change the shape of y to (n_samples, ), for example using ravel().\n",
      "  y = column_or_1d(y, warn=True)\n"
     ]
    },
    {
     "name": "stdout",
     "output_type": "stream",
     "text": [
      "Average train score: 0.58\n",
      "Average test score: 0.57\n"
     ]
    }
   ],
   "source": [
    "\n",
    "train,test=train_test_split(data,test_size=0.3)\n",
    "log_reg = LogisticRegression(max_iter=1000)\n",
    "target=['result']\n",
    "x_train=train.drop('result',axis=1)\n",
    "y_train=train[target]\n",
    "x_test=test.drop('result',axis=1)\n",
    "y_test=test[target]\n",
    "log_reg.fit(x_train,y_train)\n",
    "y_predicted = log_reg.predict(x_test)\n",
    "testScore = log_reg.score(x_test, y_test)\n",
    "trainScore = log_reg.score(x_train, y_train)\n",
    "print(\"Average train score: %.2f\" % trainScore)\n",
    "print(\"Average test score: %.2f\" % testScore)"
   ]
  },
  {
   "attachments": {},
   "cell_type": "markdown",
   "metadata": {},
   "source": [
    "check score of 3 result(lose=0,draw=1,win=3)"
   ]
  },
  {
   "cell_type": "code",
   "execution_count": 8,
   "metadata": {},
   "outputs": [
    {
     "name": "stdout",
     "output_type": "stream",
     "text": [
      "              precision    recall  f1-score   support\n",
      "\n",
      "           0       0.50      0.63      0.56       338\n",
      "           1       0.17      0.00      0.01       261\n",
      "           3       0.61      0.80      0.69       531\n",
      "\n",
      "    accuracy                           0.57      1130\n",
      "   macro avg       0.43      0.48      0.42      1130\n",
      "weighted avg       0.47      0.57      0.49      1130\n",
      "\n"
     ]
    },
    {
     "data": {
      "text/plain": [
       "array([[213,   2, 123],\n",
       "       [108,   1, 152],\n",
       "       [102,   3, 426]], dtype=int64)"
      ]
     },
     "execution_count": 8,
     "metadata": {},
     "output_type": "execute_result"
    }
   ],
   "source": [
    "from sklearn.metrics import classification_report\n",
    "print(classification_report(y_test, y_predicted))\n",
    "confusion_matrix(y_test, y_predicted)"
   ]
  },
  {
   "attachments": {},
   "cell_type": "markdown",
   "metadata": {},
   "source": [
    "Use model Random forest with different between parameter"
   ]
  },
  {
   "cell_type": "code",
   "execution_count": 9,
   "metadata": {},
   "outputs": [
    {
     "name": "stderr",
     "output_type": "stream",
     "text": [
      "C:\\Users\\Admin\\AppData\\Local\\Temp\\ipykernel_10508\\2836785980.py:14: DataConversionWarning: A column-vector y was passed when a 1d array was expected. Please change the shape of y to (n_samples,), for example using ravel().\n",
      "  ran_forest.fit(x_train,y_train)\n"
     ]
    },
    {
     "name": "stdout",
     "output_type": "stream",
     "text": [
      "Average train score: 1.00\n",
      "Average test score: 0.54\n",
      "              precision    recall  f1-score   support\n",
      "\n",
      "           0       0.51      0.57      0.54       352\n",
      "           1       0.26      0.10      0.15       256\n",
      "           3       0.61      0.74      0.67       522\n",
      "\n",
      "    accuracy                           0.54      1130\n",
      "   macro avg       0.46      0.47      0.45      1130\n",
      "weighted avg       0.50      0.54      0.51      1130\n",
      "\n"
     ]
    },
    {
     "data": {
      "text/plain": [
       "array([[202,  38, 112],\n",
       "       [ 96,  26, 134],\n",
       "       [100,  37, 385]], dtype=int64)"
      ]
     },
     "execution_count": 9,
     "metadata": {},
     "output_type": "execute_result"
    }
   ],
   "source": [
    "from sklearn.ensemble import RandomForestClassifier\n",
    "from sklearn.model_selection import train_test_split\n",
    "from sklearn.metrics import confusion_matrix\n",
    "import pandas as pd\n",
    "ran_forest = RandomForestClassifier(n_estimators=1000)\n",
    "data=pd.read_csv(\"../dataset/dataDiff.csv\")\n",
    "train,test=train_test_split(data,test_size=0.3)\n",
    "train,test=train_test_split(data,test_size=0.3)\n",
    "target=['result']\n",
    "x_train=train.drop('result',axis=1)\n",
    "y_train=train[target]\n",
    "x_test=test.drop('result',axis=1)\n",
    "y_test=test[target]\n",
    "ran_forest.fit(x_train,y_train)\n",
    "y_predicted = ran_forest.predict(x_test)\n",
    "testScore = ran_forest.score(x_test, y_test)\n",
    "trainScore = ran_forest.score(x_train, y_train)\n",
    "print(\"Average train score: %.2f\" % trainScore)\n",
    "print(\"Average test score: %.2f\" % testScore)\n",
    "print(classification_report(y_test, y_predicted))\n",
    "confusion_matrix(y_test, y_predicted)"
   ]
  },
  {
   "attachments": {},
   "cell_type": "markdown",
   "metadata": {},
   "source": [
    "when we use random forest model we can predict draw match better "
   ]
  },
  {
   "attachments": {},
   "cell_type": "markdown",
   "metadata": {},
   "source": [
    "Use model Random Forest for only mean of 10 match later"
   ]
  },
  {
   "cell_type": "code",
   "execution_count": 10,
   "metadata": {},
   "outputs": [
    {
     "name": "stderr",
     "output_type": "stream",
     "text": [
      "C:\\Users\\Admin\\AppData\\Local\\Temp\\ipykernel_10508\\559256627.py:14: DataConversionWarning: A column-vector y was passed when a 1d array was expected. Please change the shape of y to (n_samples,), for example using ravel().\n",
      "  ran_forest.fit(x_train,y_train)\n"
     ]
    },
    {
     "name": "stdout",
     "output_type": "stream",
     "text": [
      "Average train score: 1.00\n",
      "Average test score: 0.53\n",
      "              precision    recall  f1-score   support\n",
      "\n",
      "           0       0.55      0.55      0.55       379\n",
      "           1       0.23      0.08      0.11       253\n",
      "           3       0.56      0.75      0.64       498\n",
      "\n",
      "    accuracy                           0.53      1130\n",
      "   macro avg       0.45      0.46      0.44      1130\n",
      "weighted avg       0.48      0.53      0.49      1130\n",
      "\n"
     ]
    },
    {
     "data": {
      "text/plain": [
       "array([[209,  29, 141],\n",
       "       [ 79,  19, 155],\n",
       "       [ 90,  34, 374]], dtype=int64)"
      ]
     },
     "execution_count": 10,
     "metadata": {},
     "output_type": "execute_result"
    }
   ],
   "source": [
    "from sklearn.ensemble import RandomForestClassifier\n",
    "from sklearn.model_selection import train_test_split\n",
    "from sklearn.metrics import confusion_matrix\n",
    "import pandas as pd\n",
    "ran_forest = RandomForestClassifier(n_estimators=1000)\n",
    "data=pd.read_csv(\"../dataset/dataEDA.csv\")\n",
    "train,test=train_test_split(data,test_size=0.3)\n",
    "train,test=train_test_split(data,test_size=0.3)\n",
    "target=['result']\n",
    "x_train=train.drop('result',axis=1)\n",
    "y_train=train[target]\n",
    "x_test=test.drop('result',axis=1)\n",
    "y_test=test[target]\n",
    "ran_forest.fit(x_train,y_train)\n",
    "y_predicted = ran_forest.predict(x_test)\n",
    "testScore = ran_forest.score(x_test, y_test)\n",
    "trainScore = ran_forest.score(x_train, y_train)\n",
    "print(\"Average train score: %.2f\" % trainScore)\n",
    "print(\"Average test score: %.2f\" % testScore)\n",
    "print(classification_report(y_test, y_predicted))\n",
    "confusion_matrix(y_test, y_predicted)"
   ]
  }
 ],
 "metadata": {
  "kernelspec": {
   "display_name": "base",
   "language": "python",
   "name": "python3"
  },
  "language_info": {
   "codemirror_mode": {
    "name": "ipython",
    "version": 3
   },
   "file_extension": ".py",
   "mimetype": "text/x-python",
   "name": "python",
   "nbconvert_exporter": "python",
   "pygments_lexer": "ipython3",
   "version": "3.9.15"
  },
  "orig_nbformat": 4,
  "vscode": {
   "interpreter": {
    "hash": "bd97b8bffa4d3737e84826bc3d37be3046061822757ce35137ab82ad4c5a2016"
   }
  }
 },
 "nbformat": 4,
 "nbformat_minor": 2
}
